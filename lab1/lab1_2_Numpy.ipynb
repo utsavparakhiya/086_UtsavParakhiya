{
 "cells": [
  {
   "cell_type": "code",
   "execution_count": 1,
   "id": "13e506f7",
   "metadata": {},
   "outputs": [],
   "source": [
    "import numpy as np\n",
    "import pandas as pd"
   ]
  },
  {
   "cell_type": "code",
   "execution_count": 2,
   "id": "9c389c61",
   "metadata": {},
   "outputs": [
    {
     "name": "stdout",
     "output_type": "stream",
     "text": [
      "[1, 2, 3, 4, 5]\n",
      "[1 2 3 4]\n",
      "<class 'list'>\n",
      "<class 'numpy.ndarray'>\n"
     ]
    }
   ],
   "source": [
    "alist = [1, 2, 3, 4, 5] # Define a python list. It looks like an np array\n",
    "narray = np.array([1, 2, 3, 4]) # Define a numpy array\n",
    "print(alist)\n",
    "print(narray)\n",
    "print(type(alist))\n",
    "print(type(narray))"
   ]
  },
  {
   "cell_type": "code",
   "execution_count": 3,
   "id": "a056bb2f",
   "metadata": {},
   "outputs": [
    {
     "name": "stdout",
     "output_type": "stream",
     "text": [
      "[2 4 6 8]\n",
      "[1, 2, 3, 4, 5, 1, 2, 3, 4, 5]\n"
     ]
    }
   ],
   "source": [
    "print(narray + narray)\n",
    "print(alist + alist)"
   ]
  },
  {
   "cell_type": "markdown",
   "id": "a77ef4de",
   "metadata": {},
   "source": [
    "# Exercise"
   ]
  },
  {
   "cell_type": "markdown",
   "id": "2cef7d83",
   "metadata": {},
   "source": [
    "1) Create Two numpy array of size 3 X 2 and 2 X 3"
   ]
  },
  {
   "cell_type": "code",
   "execution_count": 4,
   "id": "312fb464",
   "metadata": {},
   "outputs": [
    {
     "name": "stdout",
     "output_type": "stream",
     "text": [
      "[[0. 0.]\n",
      " [0. 0.]\n",
      " [0. 0.]]\n",
      "[[0. 0. 0.]\n",
      " [0. 0. 0.]]\n"
     ]
    }
   ],
   "source": [
    "arr1 = np.empty(shape = (3,2) )\n",
    "arr2 = np.empty(shape = (2,3) )\n",
    "print(arr1)\n",
    "print(arr2)"
   ]
  },
  {
   "cell_type": "markdown",
   "id": "892016dd",
   "metadata": {},
   "source": [
    "2) Randomly Initalize that array"
   ]
  },
  {
   "cell_type": "code",
   "execution_count": 5,
   "id": "95ef5454",
   "metadata": {},
   "outputs": [
    {
     "name": "stdout",
     "output_type": "stream",
     "text": [
      "First array:\n",
      " [[1 2]\n",
      " [3 4]\n",
      " [5 6]]\n",
      "\n",
      "Second array:\n",
      " [[1 2 3]\n",
      " [4 5 6]]\n"
     ]
    }
   ],
   "source": [
    "arr = np.array(list(range(1,7)))\n",
    "arr1 = arr.reshape(3,2)\n",
    "arr2 = arr.reshape(2,3)\n",
    "print(\"First array:\\n\",arr1)\n",
    "print(\"\\nSecond array:\\n\",arr2)"
   ]
  },
  {
   "cell_type": "markdown",
   "id": "a603ddf2",
   "metadata": {},
   "source": [
    "3) Perform matrix multiplication"
   ]
  },
  {
   "cell_type": "code",
   "execution_count": 6,
   "id": "aac3fdbe",
   "metadata": {},
   "outputs": [
    {
     "data": {
      "text/plain": [
       "array([[ 9, 12, 15],\n",
       "       [19, 26, 33],\n",
       "       [29, 40, 51]])"
      ]
     },
     "execution_count": 6,
     "metadata": {},
     "output_type": "execute_result"
    }
   ],
   "source": [
    "mat_mul = np.dot(arr1, arr2)\n",
    "mat_mul"
   ]
  },
  {
   "cell_type": "markdown",
   "id": "6d1573d3",
   "metadata": {},
   "source": [
    "4) Perform elementwise matrix multiplication"
   ]
  },
  {
   "cell_type": "code",
   "execution_count": 7,
   "id": "23bb23f6",
   "metadata": {},
   "outputs": [
    {
     "name": "stdout",
     "output_type": "stream",
     "text": [
      "[[ 1  8]\n",
      " [ 6 20]\n",
      " [15 36]] \n",
      "\n",
      " [[ 1  6 15]\n",
      " [ 8 20 36]]\n"
     ]
    }
   ],
   "source": [
    "r1 = arr1 * arr2.T\n",
    "r2 = arr1.T * arr2\n",
    "print(r1, \"\\n\\n\", r2)"
   ]
  },
  {
   "cell_type": "markdown",
   "id": "89891896",
   "metadata": {},
   "source": [
    "5) Find mean of first matrix"
   ]
  },
  {
   "cell_type": "code",
   "execution_count": 8,
   "id": "53ffdcf5",
   "metadata": {},
   "outputs": [
    {
     "name": "stdout",
     "output_type": "stream",
     "text": [
      "3.5\n"
     ]
    }
   ],
   "source": [
    "mean_arr1 = np.mean(arr1)\n",
    "print(mean_arr1)"
   ]
  },
  {
   "cell_type": "markdown",
   "id": "5e83a578",
   "metadata": {},
   "source": [
    "6) Convert Numeric entries(columns) of mtcars.csv to Mean Centered Version"
   ]
  },
  {
   "cell_type": "code",
   "execution_count": 9,
   "id": "ec80071c",
   "metadata": {},
   "outputs": [
    {
     "name": "stdout",
     "output_type": "stream",
     "text": [
      "(32, 12)\n"
     ]
    },
    {
     "data": {
      "text/html": [
       "<div>\n",
       "<style scoped>\n",
       "    .dataframe tbody tr th:only-of-type {\n",
       "        vertical-align: middle;\n",
       "    }\n",
       "\n",
       "    .dataframe tbody tr th {\n",
       "        vertical-align: top;\n",
       "    }\n",
       "\n",
       "    .dataframe thead th {\n",
       "        text-align: right;\n",
       "    }\n",
       "</style>\n",
       "<table border=\"1\" class=\"dataframe\">\n",
       "  <thead>\n",
       "    <tr style=\"text-align: right;\">\n",
       "      <th></th>\n",
       "      <th>Unnamed: 0</th>\n",
       "      <th>mpg</th>\n",
       "      <th>cyl</th>\n",
       "      <th>disp</th>\n",
       "      <th>hp</th>\n",
       "      <th>drat</th>\n",
       "      <th>wt</th>\n",
       "      <th>qsec</th>\n",
       "      <th>vs</th>\n",
       "      <th>am</th>\n",
       "      <th>gear</th>\n",
       "      <th>carb</th>\n",
       "    </tr>\n",
       "  </thead>\n",
       "  <tbody>\n",
       "    <tr>\n",
       "      <th>0</th>\n",
       "      <td>Mazda RX4</td>\n",
       "      <td>21.0</td>\n",
       "      <td>6</td>\n",
       "      <td>160.0</td>\n",
       "      <td>110</td>\n",
       "      <td>3.90</td>\n",
       "      <td>2.620</td>\n",
       "      <td>16.46</td>\n",
       "      <td>0</td>\n",
       "      <td>1</td>\n",
       "      <td>4</td>\n",
       "      <td>4</td>\n",
       "    </tr>\n",
       "    <tr>\n",
       "      <th>1</th>\n",
       "      <td>Mazda RX4 Wag</td>\n",
       "      <td>21.0</td>\n",
       "      <td>6</td>\n",
       "      <td>160.0</td>\n",
       "      <td>110</td>\n",
       "      <td>3.90</td>\n",
       "      <td>2.875</td>\n",
       "      <td>17.02</td>\n",
       "      <td>0</td>\n",
       "      <td>1</td>\n",
       "      <td>4</td>\n",
       "      <td>4</td>\n",
       "    </tr>\n",
       "    <tr>\n",
       "      <th>2</th>\n",
       "      <td>Datsun 710</td>\n",
       "      <td>22.8</td>\n",
       "      <td>4</td>\n",
       "      <td>108.0</td>\n",
       "      <td>93</td>\n",
       "      <td>3.85</td>\n",
       "      <td>2.320</td>\n",
       "      <td>18.61</td>\n",
       "      <td>1</td>\n",
       "      <td>1</td>\n",
       "      <td>4</td>\n",
       "      <td>1</td>\n",
       "    </tr>\n",
       "    <tr>\n",
       "      <th>3</th>\n",
       "      <td>Hornet 4 Drive</td>\n",
       "      <td>21.4</td>\n",
       "      <td>6</td>\n",
       "      <td>258.0</td>\n",
       "      <td>110</td>\n",
       "      <td>3.08</td>\n",
       "      <td>3.215</td>\n",
       "      <td>19.44</td>\n",
       "      <td>1</td>\n",
       "      <td>0</td>\n",
       "      <td>3</td>\n",
       "      <td>1</td>\n",
       "    </tr>\n",
       "    <tr>\n",
       "      <th>4</th>\n",
       "      <td>Hornet Sportabout</td>\n",
       "      <td>18.7</td>\n",
       "      <td>8</td>\n",
       "      <td>360.0</td>\n",
       "      <td>175</td>\n",
       "      <td>3.15</td>\n",
       "      <td>3.440</td>\n",
       "      <td>17.02</td>\n",
       "      <td>0</td>\n",
       "      <td>0</td>\n",
       "      <td>3</td>\n",
       "      <td>2</td>\n",
       "    </tr>\n",
       "  </tbody>\n",
       "</table>\n",
       "</div>"
      ],
      "text/plain": [
       "          Unnamed: 0   mpg  cyl   disp   hp  drat     wt   qsec  vs  am  gear  \\\n",
       "0          Mazda RX4  21.0    6  160.0  110  3.90  2.620  16.46   0   1     4   \n",
       "1      Mazda RX4 Wag  21.0    6  160.0  110  3.90  2.875  17.02   0   1     4   \n",
       "2         Datsun 710  22.8    4  108.0   93  3.85  2.320  18.61   1   1     4   \n",
       "3     Hornet 4 Drive  21.4    6  258.0  110  3.08  3.215  19.44   1   0     3   \n",
       "4  Hornet Sportabout  18.7    8  360.0  175  3.15  3.440  17.02   0   0     3   \n",
       "\n",
       "   carb  \n",
       "0     4  \n",
       "1     4  \n",
       "2     1  \n",
       "3     1  \n",
       "4     2  "
      ]
     },
     "execution_count": 9,
     "metadata": {},
     "output_type": "execute_result"
    }
   ],
   "source": [
    "data = pd.read_csv(r\"mtcars.csv\")\n",
    "print(data.shape)\n",
    "data.head()"
   ]
  },
  {
   "cell_type": "code",
   "execution_count": 10,
   "id": "a4de6813",
   "metadata": {},
   "outputs": [
    {
     "data": {
      "text/html": [
       "<div>\n",
       "<style scoped>\n",
       "    .dataframe tbody tr th:only-of-type {\n",
       "        vertical-align: middle;\n",
       "    }\n",
       "\n",
       "    .dataframe tbody tr th {\n",
       "        vertical-align: top;\n",
       "    }\n",
       "\n",
       "    .dataframe thead th {\n",
       "        text-align: right;\n",
       "    }\n",
       "</style>\n",
       "<table border=\"1\" class=\"dataframe\">\n",
       "  <thead>\n",
       "    <tr style=\"text-align: right;\">\n",
       "      <th></th>\n",
       "      <th>Unnamed: 0</th>\n",
       "      <th>mpg</th>\n",
       "      <th>cyl</th>\n",
       "      <th>disp</th>\n",
       "      <th>hp</th>\n",
       "      <th>drat</th>\n",
       "      <th>wt</th>\n",
       "      <th>qsec</th>\n",
       "      <th>vs</th>\n",
       "      <th>am</th>\n",
       "      <th>gear</th>\n",
       "      <th>carb</th>\n",
       "    </tr>\n",
       "  </thead>\n",
       "  <tbody>\n",
       "    <tr>\n",
       "      <th>0</th>\n",
       "      <td>Mazda RX4</td>\n",
       "      <td>0.909375</td>\n",
       "      <td>-0.1875</td>\n",
       "      <td>-70.721875</td>\n",
       "      <td>-36.6875</td>\n",
       "      <td>0.303437</td>\n",
       "      <td>-0.59725</td>\n",
       "      <td>-1.38875</td>\n",
       "      <td>-0.4375</td>\n",
       "      <td>0.59375</td>\n",
       "      <td>0.3125</td>\n",
       "      <td>1.1875</td>\n",
       "    </tr>\n",
       "    <tr>\n",
       "      <th>1</th>\n",
       "      <td>Mazda RX4 Wag</td>\n",
       "      <td>0.909375</td>\n",
       "      <td>-0.1875</td>\n",
       "      <td>-70.721875</td>\n",
       "      <td>-36.6875</td>\n",
       "      <td>0.303437</td>\n",
       "      <td>-0.34225</td>\n",
       "      <td>-0.82875</td>\n",
       "      <td>-0.4375</td>\n",
       "      <td>0.59375</td>\n",
       "      <td>0.3125</td>\n",
       "      <td>1.1875</td>\n",
       "    </tr>\n",
       "    <tr>\n",
       "      <th>2</th>\n",
       "      <td>Datsun 710</td>\n",
       "      <td>2.709375</td>\n",
       "      <td>-2.1875</td>\n",
       "      <td>-122.721875</td>\n",
       "      <td>-53.6875</td>\n",
       "      <td>0.253437</td>\n",
       "      <td>-0.89725</td>\n",
       "      <td>0.76125</td>\n",
       "      <td>0.5625</td>\n",
       "      <td>0.59375</td>\n",
       "      <td>0.3125</td>\n",
       "      <td>-1.8125</td>\n",
       "    </tr>\n",
       "    <tr>\n",
       "      <th>3</th>\n",
       "      <td>Hornet 4 Drive</td>\n",
       "      <td>1.309375</td>\n",
       "      <td>-0.1875</td>\n",
       "      <td>27.278125</td>\n",
       "      <td>-36.6875</td>\n",
       "      <td>-0.516563</td>\n",
       "      <td>-0.00225</td>\n",
       "      <td>1.59125</td>\n",
       "      <td>0.5625</td>\n",
       "      <td>-0.40625</td>\n",
       "      <td>-0.6875</td>\n",
       "      <td>-1.8125</td>\n",
       "    </tr>\n",
       "    <tr>\n",
       "      <th>4</th>\n",
       "      <td>Hornet Sportabout</td>\n",
       "      <td>-1.390625</td>\n",
       "      <td>1.8125</td>\n",
       "      <td>129.278125</td>\n",
       "      <td>28.3125</td>\n",
       "      <td>-0.446563</td>\n",
       "      <td>0.22275</td>\n",
       "      <td>-0.82875</td>\n",
       "      <td>-0.4375</td>\n",
       "      <td>-0.40625</td>\n",
       "      <td>-0.6875</td>\n",
       "      <td>-0.8125</td>\n",
       "    </tr>\n",
       "  </tbody>\n",
       "</table>\n",
       "</div>"
      ],
      "text/plain": [
       "          Unnamed: 0       mpg     cyl        disp       hp      drat  \\\n",
       "0          Mazda RX4  0.909375 -0.1875  -70.721875 -36.6875  0.303437   \n",
       "1      Mazda RX4 Wag  0.909375 -0.1875  -70.721875 -36.6875  0.303437   \n",
       "2         Datsun 710  2.709375 -2.1875 -122.721875 -53.6875  0.253437   \n",
       "3     Hornet 4 Drive  1.309375 -0.1875   27.278125 -36.6875 -0.516563   \n",
       "4  Hornet Sportabout -1.390625  1.8125  129.278125  28.3125 -0.446563   \n",
       "\n",
       "        wt     qsec      vs       am    gear    carb  \n",
       "0 -0.59725 -1.38875 -0.4375  0.59375  0.3125  1.1875  \n",
       "1 -0.34225 -0.82875 -0.4375  0.59375  0.3125  1.1875  \n",
       "2 -0.89725  0.76125  0.5625  0.59375  0.3125 -1.8125  \n",
       "3 -0.00225  1.59125  0.5625 -0.40625 -0.6875 -1.8125  \n",
       "4  0.22275 -0.82875 -0.4375 -0.40625 -0.6875 -0.8125  "
      ]
     },
     "execution_count": 10,
     "metadata": {},
     "output_type": "execute_result"
    }
   ],
   "source": [
    "def centered_mean(column):\n",
    "    arr = np.array(column)\n",
    "    arr = arr - np.mean(arr)\n",
    "    return pd.DataFrame(arr)\n",
    "data_columns = data.columns\n",
    "for i in range(1,12):\n",
    "    data[data_columns[i]] = centered_mean(data[data_columns[i]])\n",
    "data.head()"
   ]
  },
  {
   "cell_type": "code",
   "execution_count": 11,
   "id": "0f41d404",
   "metadata": {},
   "outputs": [
    {
     "data": {
      "text/html": [
       "<div>\n",
       "<style scoped>\n",
       "    .dataframe tbody tr th:only-of-type {\n",
       "        vertical-align: middle;\n",
       "    }\n",
       "\n",
       "    .dataframe tbody tr th {\n",
       "        vertical-align: top;\n",
       "    }\n",
       "\n",
       "    .dataframe thead th {\n",
       "        text-align: right;\n",
       "    }\n",
       "</style>\n",
       "<table border=\"1\" class=\"dataframe\">\n",
       "  <thead>\n",
       "    <tr style=\"text-align: right;\">\n",
       "      <th></th>\n",
       "      <th>Unnamed: 0</th>\n",
       "      <th>mpg</th>\n",
       "      <th>cyl</th>\n",
       "      <th>disp</th>\n",
       "      <th>hp</th>\n",
       "      <th>drat</th>\n",
       "      <th>wt</th>\n",
       "      <th>qsec</th>\n",
       "      <th>vs</th>\n",
       "      <th>am</th>\n",
       "      <th>gear</th>\n",
       "      <th>carb</th>\n",
       "    </tr>\n",
       "  </thead>\n",
       "  <tbody>\n",
       "    <tr>\n",
       "      <th>27</th>\n",
       "      <td>Lotus Europa</td>\n",
       "      <td>10.309375</td>\n",
       "      <td>-2.1875</td>\n",
       "      <td>-135.621875</td>\n",
       "      <td>-33.6875</td>\n",
       "      <td>0.173437</td>\n",
       "      <td>-1.70425</td>\n",
       "      <td>-0.94875</td>\n",
       "      <td>0.5625</td>\n",
       "      <td>0.59375</td>\n",
       "      <td>1.3125</td>\n",
       "      <td>-0.8125</td>\n",
       "    </tr>\n",
       "    <tr>\n",
       "      <th>28</th>\n",
       "      <td>Ford Pantera L</td>\n",
       "      <td>-4.290625</td>\n",
       "      <td>1.8125</td>\n",
       "      <td>120.278125</td>\n",
       "      <td>117.3125</td>\n",
       "      <td>0.623437</td>\n",
       "      <td>-0.04725</td>\n",
       "      <td>-3.34875</td>\n",
       "      <td>-0.4375</td>\n",
       "      <td>0.59375</td>\n",
       "      <td>1.3125</td>\n",
       "      <td>1.1875</td>\n",
       "    </tr>\n",
       "    <tr>\n",
       "      <th>29</th>\n",
       "      <td>Ferrari Dino</td>\n",
       "      <td>-0.390625</td>\n",
       "      <td>-0.1875</td>\n",
       "      <td>-85.721875</td>\n",
       "      <td>28.3125</td>\n",
       "      <td>0.023438</td>\n",
       "      <td>-0.44725</td>\n",
       "      <td>-2.34875</td>\n",
       "      <td>-0.4375</td>\n",
       "      <td>0.59375</td>\n",
       "      <td>1.3125</td>\n",
       "      <td>3.1875</td>\n",
       "    </tr>\n",
       "    <tr>\n",
       "      <th>30</th>\n",
       "      <td>Maserati Bora</td>\n",
       "      <td>-5.090625</td>\n",
       "      <td>1.8125</td>\n",
       "      <td>70.278125</td>\n",
       "      <td>188.3125</td>\n",
       "      <td>-0.056563</td>\n",
       "      <td>0.35275</td>\n",
       "      <td>-3.24875</td>\n",
       "      <td>-0.4375</td>\n",
       "      <td>0.59375</td>\n",
       "      <td>1.3125</td>\n",
       "      <td>5.1875</td>\n",
       "    </tr>\n",
       "    <tr>\n",
       "      <th>31</th>\n",
       "      <td>Volvo 142E</td>\n",
       "      <td>1.309375</td>\n",
       "      <td>-2.1875</td>\n",
       "      <td>-109.721875</td>\n",
       "      <td>-37.6875</td>\n",
       "      <td>0.513438</td>\n",
       "      <td>-0.43725</td>\n",
       "      <td>0.75125</td>\n",
       "      <td>0.5625</td>\n",
       "      <td>0.59375</td>\n",
       "      <td>0.3125</td>\n",
       "      <td>-0.8125</td>\n",
       "    </tr>\n",
       "  </tbody>\n",
       "</table>\n",
       "</div>"
      ],
      "text/plain": [
       "        Unnamed: 0        mpg     cyl        disp        hp      drat  \\\n",
       "27    Lotus Europa  10.309375 -2.1875 -135.621875  -33.6875  0.173437   \n",
       "28  Ford Pantera L  -4.290625  1.8125  120.278125  117.3125  0.623437   \n",
       "29    Ferrari Dino  -0.390625 -0.1875  -85.721875   28.3125  0.023438   \n",
       "30   Maserati Bora  -5.090625  1.8125   70.278125  188.3125 -0.056563   \n",
       "31      Volvo 142E   1.309375 -2.1875 -109.721875  -37.6875  0.513438   \n",
       "\n",
       "         wt     qsec      vs       am    gear    carb  \n",
       "27 -1.70425 -0.94875  0.5625  0.59375  1.3125 -0.8125  \n",
       "28 -0.04725 -3.34875 -0.4375  0.59375  1.3125  1.1875  \n",
       "29 -0.44725 -2.34875 -0.4375  0.59375  1.3125  3.1875  \n",
       "30  0.35275 -3.24875 -0.4375  0.59375  1.3125  5.1875  \n",
       "31 -0.43725  0.75125  0.5625  0.59375  0.3125 -0.8125  "
      ]
     },
     "execution_count": 11,
     "metadata": {},
     "output_type": "execute_result"
    }
   ],
   "source": [
    "data.tail()"
   ]
  },
  {
   "cell_type": "code",
   "execution_count": null,
   "id": "7582ac8d",
   "metadata": {},
   "outputs": [],
   "source": []
  }
 ],
 "metadata": {
  "kernelspec": {
   "display_name": "Python 3 (ipykernel)",
   "language": "python",
   "name": "python3"
  },
  "language_info": {
   "codemirror_mode": {
    "name": "ipython",
    "version": 3
   },
   "file_extension": ".py",
   "mimetype": "text/x-python",
   "name": "python",
   "nbconvert_exporter": "python",
   "pygments_lexer": "ipython3",
   "version": "3.9.7"
  }
 },
 "nbformat": 4,
 "nbformat_minor": 5
}
