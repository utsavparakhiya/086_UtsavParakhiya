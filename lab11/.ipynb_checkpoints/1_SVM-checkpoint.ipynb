{
 "cells": [
  {
   "cell_type": "markdown",
   "metadata": {},
   "source": [
    "Aim: To implement SVM using scikit-learn library and train it to classify Breast Cancer Data.\n",
    "Key Terms:\n",
    "Hyperplane: A hyperplane is a decision plane which separates between a set of objects having different class memberships.\n",
    "\n",
    "Support Vectors : Support vectors are the data points, which are closest to the hyperplane. These points will define the separating line better by calculating margins.\n",
    "\n",
    "Margin : A margin is a gap between the two lines on the closest class points. This is calculated as the perpendicular distance from the line to support vectors or closest points. If the margin is larger in between the classes, then it is considered a good margin, a smaller margin is a bad margin.\n",
    "\n",
    "SVM Kernel : The SVM algorithm is implemented in practice using a kernel. A kernel transforms an input data space into the required form.\n",
    "\n",
    "Linear Kernel : A linear kernel can be used as normal dot product any two given observations. The product between two vectors is the sum of the multiplication of each pair of input values.\n",
    "\n",
    "$ K(x, xi) = sum(x * xi) $\n",
    "\n",
    "Polynomial Kernel : A polynomial kernel is a more generalized form of the linear kernel. The polynomial kernel can distinguish curved or nonlinear input space. $ K(x,xi) = 1 + sum(x * xi)^d$\n",
    "\n",
    "RBF (Radial Basis Function) Kernel : The Radial basis function kernel is a popular kernel function commonly used in support vector machine classification.RBF can map an input space in infinite dimensional space. $ K(x,xi) = exp(-gamma * sum((x xi^2)) $\n",
    "\n",
    "Here gamma is a parameter, which ranges from 0 to 1. A higher value of gamma will perfectly fit the training dataset, which causes over-fitting. Gamma=0.1 is considered to be a good default value. The value of gamma needs to be manually specified in the learning algorithm.\n",
    "\n",
    "Part A: Basic SVM with Linear Kernel\n",
    "\n"
   ]
  },
  {
   "cell_type": "code",
   "execution_count": 1,
   "metadata": {},
   "outputs": [],
   "source": [
    "import sys, os\n",
    "import matplotlib.pyplot as plt\n",
    "from sklearn import svm\n",
    "from sklearn.model_selection import train_test_split\n",
    "import numpy as np"
   ]
  },
  {
   "cell_type": "code",
   "execution_count": null,
   "metadata": {},
   "outputs": [],
   "source": []
  }
 ],
 "metadata": {
  "colab": {
   "name": "ANN_CNN-UPDATED.ipynb",
   "provenance": []
  },
  "kernelspec": {
   "display_name": "Python 3 (ipykernel)",
   "language": "python",
   "name": "python3"
  },
  "language_info": {
   "codemirror_mode": {
    "name": "ipython",
    "version": 3
   },
   "file_extension": ".py",
   "mimetype": "text/x-python",
   "name": "python",
   "nbconvert_exporter": "python",
   "pygments_lexer": "ipython3",
   "version": "3.9.7"
  }
 },
 "nbformat": 4,
 "nbformat_minor": 1
}
