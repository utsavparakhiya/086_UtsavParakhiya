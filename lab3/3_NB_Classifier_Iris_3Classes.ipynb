{
 "cells": [
  {
   "cell_type": "markdown",
   "id": "78ac0d1d",
   "metadata": {},
   "source": [
    "Exercise:"
   ]
  },
  {
   "cell_type": "markdown",
   "id": "f44dd731",
   "metadata": {},
   "source": [
    "**5) 76<=Rollnumber<=100:**"
   ]
  },
  {
   "cell_type": "markdown",
   "id": "774c299c",
   "metadata": {},
   "source": [
    "#Task 1: Try the algo on Dataset2 - OneHotEncoding of features:and Train test Division 75%-25%"
   ]
  },
  {
   "cell_type": "code",
   "execution_count": 1,
   "id": "d78c95db",
   "metadata": {},
   "outputs": [],
   "source": [
    "import pandas as pd\n",
    "import numpy as np\n",
    "import matplotlib.pyplot as plt\n",
    "from sklearn.preprocessing import OneHotEncoder\n",
    "from sklearn.naive_bayes import GaussianNB\n",
    "from sklearn.model_selection import train_test_split\n",
    "from sklearn.metrics import accuracy_score, confusion_matrix, precision_score, recall_score"
   ]
  },
  {
   "cell_type": "code",
   "execution_count": 2,
   "id": "78eeae35",
   "metadata": {},
   "outputs": [
    {
     "name": "stdout",
     "output_type": "stream",
     "text": [
      "Number of examples and feature: (14, 5)\n"
     ]
    },
    {
     "data": {
      "text/html": [
       "<div>\n",
       "<style scoped>\n",
       "    .dataframe tbody tr th:only-of-type {\n",
       "        vertical-align: middle;\n",
       "    }\n",
       "\n",
       "    .dataframe tbody tr th {\n",
       "        vertical-align: top;\n",
       "    }\n",
       "\n",
       "    .dataframe thead th {\n",
       "        text-align: right;\n",
       "    }\n",
       "</style>\n",
       "<table border=\"1\" class=\"dataframe\">\n",
       "  <thead>\n",
       "    <tr style=\"text-align: right;\">\n",
       "      <th></th>\n",
       "      <th>Outlook</th>\n",
       "      <th>Temp</th>\n",
       "      <th>Wind</th>\n",
       "      <th>Humidity</th>\n",
       "      <th>Class</th>\n",
       "    </tr>\n",
       "  </thead>\n",
       "  <tbody>\n",
       "    <tr>\n",
       "      <th>0</th>\n",
       "      <td>R</td>\n",
       "      <td>H</td>\n",
       "      <td>F</td>\n",
       "      <td>Normal</td>\n",
       "      <td>N</td>\n",
       "    </tr>\n",
       "    <tr>\n",
       "      <th>1</th>\n",
       "      <td>R</td>\n",
       "      <td>H</td>\n",
       "      <td>T</td>\n",
       "      <td>High</td>\n",
       "      <td>N</td>\n",
       "    </tr>\n",
       "    <tr>\n",
       "      <th>2</th>\n",
       "      <td>O</td>\n",
       "      <td>H</td>\n",
       "      <td>F</td>\n",
       "      <td>Normal</td>\n",
       "      <td>Y</td>\n",
       "    </tr>\n",
       "    <tr>\n",
       "      <th>3</th>\n",
       "      <td>S</td>\n",
       "      <td>M</td>\n",
       "      <td>F</td>\n",
       "      <td>Normal</td>\n",
       "      <td>N</td>\n",
       "    </tr>\n",
       "    <tr>\n",
       "      <th>4</th>\n",
       "      <td>S</td>\n",
       "      <td>M</td>\n",
       "      <td>F</td>\n",
       "      <td>Normal</td>\n",
       "      <td>Y</td>\n",
       "    </tr>\n",
       "    <tr>\n",
       "      <th>5</th>\n",
       "      <td>S</td>\n",
       "      <td>M</td>\n",
       "      <td>T</td>\n",
       "      <td>Low</td>\n",
       "      <td>Y</td>\n",
       "    </tr>\n",
       "    <tr>\n",
       "      <th>6</th>\n",
       "      <td>O</td>\n",
       "      <td>C</td>\n",
       "      <td>T</td>\n",
       "      <td>Normal</td>\n",
       "      <td>Y</td>\n",
       "    </tr>\n",
       "    <tr>\n",
       "      <th>7</th>\n",
       "      <td>R</td>\n",
       "      <td>C</td>\n",
       "      <td>F</td>\n",
       "      <td>Normal</td>\n",
       "      <td>Y</td>\n",
       "    </tr>\n",
       "    <tr>\n",
       "      <th>8</th>\n",
       "      <td>R</td>\n",
       "      <td>C</td>\n",
       "      <td>F</td>\n",
       "      <td>Low</td>\n",
       "      <td>Y</td>\n",
       "    </tr>\n",
       "    <tr>\n",
       "      <th>9</th>\n",
       "      <td>S</td>\n",
       "      <td>M</td>\n",
       "      <td>F</td>\n",
       "      <td>High</td>\n",
       "      <td>Y</td>\n",
       "    </tr>\n",
       "    <tr>\n",
       "      <th>10</th>\n",
       "      <td>R</td>\n",
       "      <td>M</td>\n",
       "      <td>T</td>\n",
       "      <td>High</td>\n",
       "      <td>Y</td>\n",
       "    </tr>\n",
       "    <tr>\n",
       "      <th>11</th>\n",
       "      <td>O</td>\n",
       "      <td>M</td>\n",
       "      <td>T</td>\n",
       "      <td>Low</td>\n",
       "      <td>Y</td>\n",
       "    </tr>\n",
       "    <tr>\n",
       "      <th>12</th>\n",
       "      <td>O</td>\n",
       "      <td>H</td>\n",
       "      <td>F</td>\n",
       "      <td>Normal</td>\n",
       "      <td>Y</td>\n",
       "    </tr>\n",
       "    <tr>\n",
       "      <th>13</th>\n",
       "      <td>S</td>\n",
       "      <td>M</td>\n",
       "      <td>T</td>\n",
       "      <td>Normal</td>\n",
       "      <td>N</td>\n",
       "    </tr>\n",
       "  </tbody>\n",
       "</table>\n",
       "</div>"
      ],
      "text/plain": [
       "   Outlook Temp Wind Humidity Class\n",
       "0        R    H    F   Normal     N\n",
       "1        R    H    T     High     N\n",
       "2        O    H    F   Normal     Y\n",
       "3        S    M    F   Normal     N\n",
       "4        S    M    F   Normal     Y\n",
       "5        S    M    T      Low     Y\n",
       "6        O    C    T   Normal     Y\n",
       "7        R    C    F   Normal     Y\n",
       "8        R    C    F      Low     Y\n",
       "9        S    M    F     High     Y\n",
       "10       R    M    T     High     Y\n",
       "11       O    M    T      Low     Y\n",
       "12       O    H    F   Normal     Y\n",
       "13       S    M    T   Normal     N"
      ]
     },
     "execution_count": 2,
     "metadata": {},
     "output_type": "execute_result"
    }
   ],
   "source": [
    "dataset = pd.read_csv(r\"./PracticeDataSets/Dataset2.csv\")\n",
    "print(\"Number of examples and feature:\", dataset.shape)\n",
    "dataset"
   ]
  },
  {
   "cell_type": "code",
   "execution_count": 3,
   "id": "dce8c47b",
   "metadata": {},
   "outputs": [
    {
     "name": "stdout",
     "output_type": "stream",
     "text": [
      "\u001b[1mUnique Outlook values: \u001b[0;0m ['R' 'O' 'S']\n",
      "\u001b[1m\n",
      "Unique Temperature values: \u001b[0;0m ['H' 'M' 'C']\n",
      "\u001b[1m\n",
      "Unique Humidity values: \u001b[0;0m ['Normal' 'High' 'Low']\n",
      "\u001b[1m\n",
      "Unique Wind values: \u001b[0;0m ['F' 'T']\n",
      "\u001b[1m\n",
      "Unique Class values \u001b[91m (Class Label): \u001b[0;0m ['N' 'Y']\n"
     ]
    }
   ],
   "source": [
    "start = \"\\033[1m\"\n",
    "end = \"\\033[0;0m\"\n",
    "\n",
    "print(start + \"Unique Outlook values: \" + end, dataset['Outlook'].unique())\n",
    "\n",
    "print(start + \"\\nUnique Temperature values: \" + end, dataset['Temp'].unique())\n",
    "\n",
    "print(start + \"\\nUnique Humidity values: \" + end, dataset['Humidity'].unique())\n",
    "\n",
    "print(start + \"\\nUnique Wind values: \" + end, dataset['Wind'].unique())\n",
    "\n",
    "print(start + \"\\nUnique Class values \" + \"\\033[91m (Class Label): \" + end, dataset['Class'].unique())"
   ]
  },
  {
   "cell_type": "code",
   "execution_count": 4,
   "id": "fa1b3bf4",
   "metadata": {},
   "outputs": [
    {
     "data": {
      "image/png": "[encoded data removed]",
      "text/plain": [
       "<Figure size 432x288 with 1 Axes>"
      ]
     },
     "metadata": {},
     "output_type": "display_data"
    }
   ],
   "source": [
    "pie_chart = dataset['Class'].value_counts().plot.pie(autopct = \"%1.1f%%\", radius = 2, startangle = 90)\n",
    "pie_chart.set_ylabel('')\n",
    "plt.show()"
   ]
  },
  {
   "cell_type": "code",
   "execution_count": 5,
   "id": "57bc314a",
   "metadata": {},
   "outputs": [],
   "source": [
    "\n",
    "dummy = pd.get_dummies(dataset.iloc[:,:-1])\n",
    "\n",
    "cols = dataset.columns.tolist()\n",
    "cols.remove(\"Class\")\n",
    "\n",
    "dataset = dataset.drop(cols, axis = 1)\n",
    "dataset = pd.concat([dummy,dataset], axis = 1)"
   ]
  },
  {
   "cell_type": "code",
   "execution_count": 6,
   "id": "795e367b",
   "metadata": {},
   "outputs": [
    {
     "name": "stdout",
     "output_type": "stream",
     "text": [
      "\n",
      "\n",
      "Final dataset :\n",
      "\n"
     ]
    },
    {
     "data": {
      "text/html": [
       "<div>\n",
       "<style scoped>\n",
       "    .dataframe tbody tr th:only-of-type {\n",
       "        vertical-align: middle;\n",
       "    }\n",
       "\n",
       "    .dataframe tbody tr th {\n",
       "        vertical-align: top;\n",
       "    }\n",
       "\n",
       "    .dataframe thead th {\n",
       "        text-align: right;\n",
       "    }\n",
       "</style>\n",
       "<table border=\"1\" class=\"dataframe\">\n",
       "  <thead>\n",
       "    <tr style=\"text-align: right;\">\n",
       "      <th></th>\n",
       "      <th>Outlook_O</th>\n",
       "      <th>Outlook_R</th>\n",
       "      <th>Outlook_S</th>\n",
       "      <th>Temp_C</th>\n",
       "      <th>Temp_H</th>\n",
       "      <th>Temp_M</th>\n",
       "      <th>Wind_F</th>\n",
       "      <th>Wind_T</th>\n",
       "      <th>Humidity_High</th>\n",
       "      <th>Humidity_Low</th>\n",
       "      <th>Humidity_Normal</th>\n",
       "      <th>Class</th>\n",
       "    </tr>\n",
       "  </thead>\n",
       "  <tbody>\n",
       "    <tr>\n",
       "      <th>0</th>\n",
       "      <td>0</td>\n",
       "      <td>1</td>\n",
       "      <td>0</td>\n",
       "      <td>0</td>\n",
       "      <td>1</td>\n",
       "      <td>0</td>\n",
       "      <td>1</td>\n",
       "      <td>0</td>\n",
       "      <td>0</td>\n",
       "      <td>0</td>\n",
       "      <td>1</td>\n",
       "      <td>N</td>\n",
       "    </tr>\n",
       "    <tr>\n",
       "      <th>1</th>\n",
       "      <td>0</td>\n",
       "      <td>1</td>\n",
       "      <td>0</td>\n",
       "      <td>0</td>\n",
       "      <td>1</td>\n",
       "      <td>0</td>\n",
       "      <td>0</td>\n",
       "      <td>1</td>\n",
       "      <td>1</td>\n",
       "      <td>0</td>\n",
       "      <td>0</td>\n",
       "      <td>N</td>\n",
       "    </tr>\n",
       "    <tr>\n",
       "      <th>2</th>\n",
       "      <td>1</td>\n",
       "      <td>0</td>\n",
       "      <td>0</td>\n",
       "      <td>0</td>\n",
       "      <td>1</td>\n",
       "      <td>0</td>\n",
       "      <td>1</td>\n",
       "      <td>0</td>\n",
       "      <td>0</td>\n",
       "      <td>0</td>\n",
       "      <td>1</td>\n",
       "      <td>Y</td>\n",
       "    </tr>\n",
       "    <tr>\n",
       "      <th>3</th>\n",
       "      <td>0</td>\n",
       "      <td>0</td>\n",
       "      <td>1</td>\n",
       "      <td>0</td>\n",
       "      <td>0</td>\n",
       "      <td>1</td>\n",
       "      <td>1</td>\n",
       "      <td>0</td>\n",
       "      <td>0</td>\n",
       "      <td>0</td>\n",
       "      <td>1</td>\n",
       "      <td>N</td>\n",
       "    </tr>\n",
       "    <tr>\n",
       "      <th>4</th>\n",
       "      <td>0</td>\n",
       "      <td>0</td>\n",
       "      <td>1</td>\n",
       "      <td>0</td>\n",
       "      <td>0</td>\n",
       "      <td>1</td>\n",
       "      <td>1</td>\n",
       "      <td>0</td>\n",
       "      <td>0</td>\n",
       "      <td>0</td>\n",
       "      <td>1</td>\n",
       "      <td>Y</td>\n",
       "    </tr>\n",
       "  </tbody>\n",
       "</table>\n",
       "</div>"
      ],
      "text/plain": [
       "   Outlook_O  Outlook_R  Outlook_S  Temp_C  Temp_H  Temp_M  Wind_F  Wind_T  \\\n",
       "0          0          1          0       0       1       0       1       0   \n",
       "1          0          1          0       0       1       0       0       1   \n",
       "2          1          0          0       0       1       0       1       0   \n",
       "3          0          0          1       0       0       1       1       0   \n",
       "4          0          0          1       0       0       1       1       0   \n",
       "\n",
       "   Humidity_High  Humidity_Low  Humidity_Normal Class  \n",
       "0              0             0                1     N  \n",
       "1              1             0                0     N  \n",
       "2              0             0                1     Y  \n",
       "3              0             0                1     N  \n",
       "4              0             0                1     Y  "
      ]
     },
     "execution_count": 6,
     "metadata": {},
     "output_type": "execute_result"
    }
   ],
   "source": [
    "print(\"\\n\\nFinal dataset :\\n\")\n",
    "dataset.head()"
   ]
  },
  {
   "cell_type": "code",
   "execution_count": 7,
   "id": "8ca83d0d",
   "metadata": {},
   "outputs": [
    {
     "name": "stdout",
     "output_type": "stream",
     "text": [
      "\n",
      "Label\n",
      "\n",
      "\n"
     ]
    },
    {
     "data": {
      "text/plain": [
       "0     N\n",
       "1     N\n",
       "2     Y\n",
       "3     N\n",
       "4     Y\n",
       "5     Y\n",
       "6     Y\n",
       "7     Y\n",
       "8     Y\n",
       "9     Y\n",
       "10    Y\n",
       "11    Y\n",
       "12    Y\n",
       "13    N\n",
       "Name: Class, dtype: object"
      ]
     },
     "execution_count": 7,
     "metadata": {},
     "output_type": "execute_result"
    }
   ],
   "source": [
    "print(\"\\nLabel\\n\\n\")\n",
    "labels = dataset['Class']\n",
    "labels\n"
   ]
  },
  {
   "cell_type": "code",
   "execution_count": 8,
   "id": "3519c713",
   "metadata": {},
   "outputs": [],
   "source": [
    "#split data set into train and test sets\n",
    "data_train, data_test, target_train, target_test = train_test_split(dataset.iloc[:,:-1],labels, test_size = 0.25, random_state = 86)\n",
    "# set Random state of model equals to your roll number\n",
    "#my roll number is 86"
   ]
  },
  {
   "cell_type": "code",
   "execution_count": 16,
   "id": "311f0a62",
   "metadata": {},
   "outputs": [
    {
     "data": {
      "text/plain": [
       "GaussianNB()"
      ]
     },
     "execution_count": 16,
     "metadata": {},
     "output_type": "execute_result"
    }
   ],
   "source": [
    "# creating intsance\n",
    "gnb = GaussianNB()\n",
    "\n",
    "# fitting the model or training\n",
    "gnb.fit(data_train,target_train)"
   ]
  },
  {
   "cell_type": "code",
   "execution_count": 17,
   "id": "6ad72907",
   "metadata": {},
   "outputs": [],
   "source": [
    "# testing\n",
    "target_predict = gnb.predict(data_test)"
   ]
  },
  {
   "cell_type": "code",
   "execution_count": 18,
   "id": "ff5c0f67",
   "metadata": {},
   "outputs": [
    {
     "name": "stdout",
     "output_type": "stream",
     "text": [
      "Accuracy: 1.0\n"
     ]
    }
   ],
   "source": [
    "# Accuracy\n",
    "Accuracy = accuracy_score(target_test, target_predict)\n",
    "print(\"Accuracy:\", Accuracy)"
   ]
  },
  {
   "cell_type": "code",
   "execution_count": 19,
   "id": "536aae6e",
   "metadata": {},
   "outputs": [
    {
     "name": "stdout",
     "output_type": "stream",
     "text": [
      "Confusion Matrix:\n",
      "\n"
     ]
    },
    {
     "data": {
      "text/plain": [
       "array([[1, 0],\n",
       "       [0, 3]], dtype=int64)"
      ]
     },
     "execution_count": 19,
     "metadata": {},
     "output_type": "execute_result"
    }
   ],
   "source": [
    "\n",
    "# Confusion Matrix\n",
    "cm = confusion_matrix(target_test, target_predict)\n",
    "print(\"Confusion Matrix:\\n\")\n",
    "cm"
   ]
  },
  {
   "cell_type": "code",
   "execution_count": 20,
   "id": "8d263c78",
   "metadata": {},
   "outputs": [
    {
     "name": "stdout",
     "output_type": "stream",
     "text": [
      "Precision:\n",
      "\n"
     ]
    },
    {
     "data": {
      "text/plain": [
       "array([1., 1.])"
      ]
     },
     "execution_count": 20,
     "metadata": {},
     "output_type": "execute_result"
    }
   ],
   "source": [
    "# Precision\n",
    "precision = precision_score(target_test, target_predict, average=None)\n",
    "print(\"Precision:\\n\")\n",
    "precision"
   ]
  },
  {
   "cell_type": "code",
   "execution_count": 21,
   "id": "071fb69f",
   "metadata": {},
   "outputs": [
    {
     "name": "stdout",
     "output_type": "stream",
     "text": [
      "Recall:\n",
      "\n"
     ]
    },
    {
     "data": {
      "text/plain": [
       "array([1., 1.])"
      ]
     },
     "execution_count": 21,
     "metadata": {},
     "output_type": "execute_result"
    }
   ],
   "source": [
    "# Recall\n",
    "recall = recall_score(target_test, target_predict, average=None)\n",
    "print(\"Recall:\\n\")\n",
    "recall"
   ]
  },
  {
   "cell_type": "markdown",
   "id": "d060215b",
   "metadata": {},
   "source": [
    "#Task 2: Apply algorithm on wine dataset - LabelEncoding of features: and Train test Division 80%-20%"
   ]
  },
  {
   "cell_type": "code",
   "execution_count": 22,
   "id": "afe349b6",
   "metadata": {},
   "outputs": [],
   "source": [
    "import pandas as pd\n",
    "import numpy as np\n",
    "import matplotlib.pyplot as plt\n",
    "from sklearn.preprocessing import LabelEncoder # not used as data is already numerical\n",
    "from sklearn.naive_bayes import MultinomialNB\n",
    "from sklearn.model_selection import train_test_split\n",
    "from sklearn.metrics import accuracy_score, confusion_matrix\n",
    "from sklearn import datasets\n",
    "from sklearn import metrics"
   ]
  },
  {
   "cell_type": "code",
   "execution_count": 23,
   "id": "c64683f4",
   "metadata": {},
   "outputs": [
    {
     "name": "stdout",
     "output_type": "stream",
     "text": [
      "Number of examples and feature: (178, 13)\n"
     ]
    }
   ],
   "source": [
    "wine = datasets.load_wine()\n",
    "print(\"Number of examples and feature:\", wine.data.shape)\n",
    "dataset = pd.DataFrame(wine.data)"
   ]
  },
  {
   "cell_type": "code",
   "execution_count": 26,
   "id": "48439b3b",
   "metadata": {},
   "outputs": [
    {
     "name": "stdout",
     "output_type": "stream",
     "text": [
      "Features:  [[1.423e+01 1.710e+00 2.430e+00 ... 1.040e+00 3.920e+00 1.065e+03]\n",
      " [1.320e+01 1.780e+00 2.140e+00 ... 1.050e+00 3.400e+00 1.050e+03]\n",
      " [1.316e+01 2.360e+00 2.670e+00 ... 1.030e+00 3.170e+00 1.185e+03]\n",
      " ...\n",
      " [1.327e+01 4.280e+00 2.260e+00 ... 5.900e-01 1.560e+00 8.350e+02]\n",
      " [1.317e+01 2.590e+00 2.370e+00 ... 6.000e-01 1.620e+00 8.400e+02]\n",
      " [1.413e+01 4.100e+00 2.740e+00 ... 6.100e-01 1.600e+00 5.600e+02]]\n",
      "Labels:  [0 1 2]\n"
     ]
    }
   ],
   "source": [
    "print(\"Features: \", wine.data)\n",
    "print(\"Labels: \", np.unique(wine.target))\n"
   ]
  },
  {
   "cell_type": "code",
   "execution_count": 24,
   "id": "e95cd71d",
   "metadata": {},
   "outputs": [],
   "source": [
    "#split data set into train and test sets\n",
    "data_train, data_test, target_train, target_test = train_test_split(wine.data,\n",
    "                        wine.target, test_size = 0.20, random_state = 86) \n",
    "#86 roll number"
   ]
  },
  {
   "cell_type": "code",
   "execution_count": 25,
   "id": "90c9d6d5",
   "metadata": {},
   "outputs": [
    {
     "data": {
      "text/plain": [
       "MultinomialNB()"
      ]
     },
     "execution_count": 25,
     "metadata": {},
     "output_type": "execute_result"
    }
   ],
   "source": [
    "#Create a Classifier\n",
    "model=MultinomialNB()\n",
    "# Train the model using the training sets\n",
    "model.fit(data_train,target_train)"
   ]
  },
  {
   "cell_type": "code",
   "execution_count": 26,
   "id": "309a1389",
   "metadata": {},
   "outputs": [],
   "source": [
    "\n",
    "target_pred = model.predict(data_test)"
   ]
  },
  {
   "cell_type": "code",
   "execution_count": 27,
   "id": "7271d63c",
   "metadata": {},
   "outputs": [
    {
     "name": "stdout",
     "output_type": "stream",
     "text": [
      "Accuracy: 0.8611111111111112\n"
     ]
    }
   ],
   "source": [
    "print(\"Accuracy:\",accuracy_score(target_test, target_pred))"
   ]
  },
  {
   "cell_type": "code",
   "execution_count": 28,
   "id": "a50c5dad",
   "metadata": {},
   "outputs": [
    {
     "data": {
      "text/plain": [
       "array([[ 9,  3,  0],\n",
       "       [ 1, 13,  0],\n",
       "       [ 0,  1,  9]], dtype=int64)"
      ]
     },
     "execution_count": 28,
     "metadata": {},
     "output_type": "execute_result"
    }
   ],
   "source": [
    "confusion_matrix(target_test, target_pred)"
   ]
  },
  {
   "cell_type": "code",
   "execution_count": 32,
   "id": "974a37e9",
   "metadata": {},
   "outputs": [
    {
     "name": "stdout",
     "output_type": "stream",
     "text": [
      "Confusion matrix:\n",
      "[[11  0  0]\n",
      " [ 1 19  0]\n",
      " [ 0  1  4]]\n"
     ]
    },
    {
     "data": {
      "image/png": "[encoded data removed]",
      "text/plain": [
       "<Figure size 432x288 with 2 Axes>"
      ]
     },
     "metadata": {
      "needs_background": "light"
     },
     "output_type": "display_data"
    }
   ],
   "source": [
    "disp = metrics.plot_confusion_matrix(model, data_test, target_test)\n",
    "disp.figure_.suptitle(\"Confusion Matrix\")\n",
    "print(f\"Confusion matrix:\\n{disp.confusion_matrix}\")\n",
    "plt.show()"
   ]
  },
  {
   "cell_type": "code",
   "execution_count": null,
   "id": "b232a881",
   "metadata": {},
   "outputs": [],
   "source": []
  }
 ],
 "metadata": {
  "kernelspec": {
   "display_name": "Python 3 (ipykernel)",
   "language": "python",
   "name": "python3"
  },
  "language_info": {
   "codemirror_mode": {
    "name": "ipython",
    "version": 3
   },
   "file_extension": ".py",
   "mimetype": "text/x-python",
   "name": "python",
   "nbconvert_exporter": "python",
   "pygments_lexer": "ipython3",
   "version": "3.9.7"
  }
 },
 "nbformat": 4,
 "nbformat_minor": 5
}
