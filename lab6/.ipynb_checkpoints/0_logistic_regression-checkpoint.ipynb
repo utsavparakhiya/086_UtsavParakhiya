{
 "cells": [
  {
   "cell_type": "code",
   "execution_count": 1,
   "metadata": {
    "_cell_guid": "b1076dfc-b9ad-4769-8c92-a6c4dae69d19",
    "_uuid": "8f2839f25d086af736a60e9eeb907d3b93b6e0e5",
    "colab": {},
    "colab_type": "code",
    "id": "hfV503AtcBDp"
   },
   "outputs": [],
   "source": [
    "#Importing libraries\n",
    "import numpy as np \n",
    "import pandas as pd \n",
    "import io\n",
    "import matplotlib.pyplot as plt"
   ]
  },
  {
   "cell_type": "code",
   "execution_count": 2,
   "metadata": {
    "_cell_guid": "79c7e3d0-c299-4dcb-8224-4455121ee9b0",
    "_uuid": "d629ff2d2480ee46fbb7e2d37f6b5fab8052498a",
    "colab": {
     "base_uri": "https://localhost:8080/",
     "height": 264,
     "resources": {
      "http://localhost:8080/nbextensions/google.colab/files.js": {
       "data": "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",
       "headers": [
        [
         "content-type",
         "application/javascript"
        ]
       ],
       "ok": true,
       "status": 200,
       "status_text": "OK"
      }
     }
    },
    "colab_type": "code",
    "executionInfo": {
     "elapsed": 15832,
     "status": "ok",
     "timestamp": 1597300415504,
     "user": {
      "displayName": "Prof. Hariom Pandya",
      "photoUrl": "https://lh3.googleusercontent.com/a-/AOh14Ggt3sg6X_951s0boD3SSJvqRng4AQaC3MhTBtGQ9Q=s64",
      "userId": "16159546014304882594"
     },
     "user_tz": -330
    },
    "id": "Y4rK9ffYcBEP",
    "outputId": "cb915e2d-2d8b-430b-9482-c250c3e9c985"
   },
   "outputs": [
    {
     "data": {
      "text/html": [
       "<div>\n",
       "<style scoped>\n",
       "    .dataframe tbody tr th:only-of-type {\n",
       "        vertical-align: middle;\n",
       "    }\n",
       "\n",
       "    .dataframe tbody tr th {\n",
       "        vertical-align: top;\n",
       "    }\n",
       "\n",
       "    .dataframe thead th {\n",
       "        text-align: right;\n",
       "    }\n",
       "</style>\n",
       "<table border=\"1\" class=\"dataframe\">\n",
       "  <thead>\n",
       "    <tr style=\"text-align: right;\">\n",
       "      <th></th>\n",
       "      <th>Age</th>\n",
       "      <th>EstimatedSalary</th>\n",
       "      <th>Purchased</th>\n",
       "    </tr>\n",
       "  </thead>\n",
       "  <tbody>\n",
       "    <tr>\n",
       "      <th>0</th>\n",
       "      <td>19</td>\n",
       "      <td>19000</td>\n",
       "      <td>0</td>\n",
       "    </tr>\n",
       "    <tr>\n",
       "      <th>1</th>\n",
       "      <td>35</td>\n",
       "      <td>20000</td>\n",
       "      <td>0</td>\n",
       "    </tr>\n",
       "    <tr>\n",
       "      <th>2</th>\n",
       "      <td>26</td>\n",
       "      <td>43000</td>\n",
       "      <td>0</td>\n",
       "    </tr>\n",
       "    <tr>\n",
       "      <th>3</th>\n",
       "      <td>27</td>\n",
       "      <td>57000</td>\n",
       "      <td>0</td>\n",
       "    </tr>\n",
       "    <tr>\n",
       "      <th>4</th>\n",
       "      <td>19</td>\n",
       "      <td>76000</td>\n",
       "      <td>0</td>\n",
       "    </tr>\n",
       "  </tbody>\n",
       "</table>\n",
       "</div>"
      ],
      "text/plain": [
       "   Age  EstimatedSalary  Purchased\n",
       "0   19            19000          0\n",
       "1   35            20000          0\n",
       "2   26            43000          0\n",
       "3   27            57000          0\n",
       "4   19            76000          0"
      ]
     },
     "execution_count": 2,
     "metadata": {},
     "output_type": "execute_result"
    }
   ],
   "source": [
    "data = pd.read_csv('BuyComputer.csv')\n",
    "\n",
    "data.drop(columns=['User ID',],axis=1,inplace=True)\n",
    "data.head()"
   ]
  },
  {
   "cell_type": "code",
   "execution_count": 3,
   "metadata": {
    "_uuid": "4cb45e28344e7e245ab398e9f4f5272ef21d2129",
    "colab": {},
    "colab_type": "code",
    "id": "jwuPgU6_cBE8"
   },
   "outputs": [],
   "source": [
    "#Declare label as last column in the source file\n",
    "label = data.iloc[:,-1].values\n"
   ]
  },
  {
   "cell_type": "code",
   "execution_count": 4,
   "metadata": {
    "_uuid": "2e7a145fa49435ad9578ec2827f76a70cc99f2e1",
    "colab": {},
    "colab_type": "code",
    "id": "2lhBrOp8cBFX"
   },
   "outputs": [],
   "source": [
    "#Declaring X as all columns excluding last\n",
    "X = data.iloc[:,:-1].values"
   ]
  },
  {
   "cell_type": "code",
   "execution_count": 5,
   "metadata": {
    "_uuid": "dffb1f3e19e19964995ac827bf55108b5815ff67",
    "colab": {},
    "colab_type": "code",
    "id": "t8nwbTn6cBFp"
   },
   "outputs": [],
   "source": [
    "# Splitting data\n",
    "from sklearn.model_selection import train_test_split\n",
    "X_train, X_test, y_train, y_test = train_test_split(X, label, test_size = 0.30, random_state = 86)"
   ]
  },
  {
   "cell_type": "code",
   "execution_count": 6,
   "metadata": {
    "_uuid": "7d4ed14782e114ae3282f20d3754121398e6d232",
    "colab": {},
    "colab_type": "code",
    "id": "U4bUiVVFcBGD"
   },
   "outputs": [],
   "source": [
    "# Sacaling data\n",
    "from sklearn.preprocessing import StandardScaler\n",
    "sc = StandardScaler()\n",
    "X_train = sc.fit_transform(X_train)\n",
    "X_test = sc.transform(X_test)"
   ]
  },
  {
   "cell_type": "code",
   "execution_count": 7,
   "metadata": {
    "_uuid": "2ff7415e3e0e0673d59051cfe6154c63d3312a32",
    "colab": {},
    "colab_type": "code",
    "id": "W5yGgzqbcBGc"
   },
   "outputs": [
    {
     "name": "stdout",
     "output_type": "stream",
     "text": [
      "2\n"
     ]
    }
   ],
   "source": [
    "#Variabes to calculate sigmoid function\n",
    "y_pred = []\n",
    "len_x = len(X_train[0])\n",
    "w = []\n",
    "b = 0.2\n",
    "print(len_x)"
   ]
  },
  {
   "cell_type": "code",
   "execution_count": 8,
   "metadata": {
    "_uuid": "a228174207f4631be4f26a0cc05e379f3f58aa56",
    "colab": {},
    "colab_type": "code",
    "id": "ZbqwTM0bcBGr"
   },
   "outputs": [
    {
     "data": {
      "text/plain": [
       "280"
      ]
     },
     "execution_count": 8,
     "metadata": {},
     "output_type": "execute_result"
    }
   ],
   "source": [
    "entries = len(X_train[:,0])\n",
    "entries"
   ]
  },
  {
   "cell_type": "code",
   "execution_count": 9,
   "metadata": {
    "_uuid": "5d4d6e47ee65c9c7404e60fcf8f05c11708546b3",
    "colab": {},
    "colab_type": "code",
    "id": "vEV7Nn73cBG7"
   },
   "outputs": [
    {
     "data": {
      "text/plain": [
       "[0, 0]"
      ]
     },
     "execution_count": 9,
     "metadata": {},
     "output_type": "execute_result"
    }
   ],
   "source": [
    "for weights in range(len_x):\n",
    "    w.append(0)\n",
    "w"
   ]
  },
  {
   "cell_type": "code",
   "execution_count": 10,
   "metadata": {
    "_uuid": "18dbd2196d72527a82d30ab88ed2aa8d10bd01ce",
    "colab": {},
    "colab_type": "code",
    "id": "_fAtpylNcBHM"
   },
   "outputs": [],
   "source": [
    "# Sigmoid function\n",
    "def sigmoid(z):\n",
    "  return (1 / (1 + np.exp(-z)))"
   ]
  },
  {
   "cell_type": "code",
   "execution_count": 11,
   "metadata": {
    "_uuid": "daa0f87fdbf98591cb9f51b8dc7157dc399ca827",
    "colab": {},
    "colab_type": "code",
    "id": "kfchkScTcBHd"
   },
   "outputs": [],
   "source": [
    "def predict(inputs):\n",
    "    z = np.dot(w,inputs) + b\n",
    "    temp = sigmoid(z)\n",
    "    return temp"
   ]
  },
  {
   "cell_type": "code",
   "execution_count": 12,
   "metadata": {
    "_uuid": "4126f842d072ccd40019cc283b767a014e2ee074",
    "colab": {},
    "colab_type": "code",
    "id": "K2ryTgglcBHt"
   },
   "outputs": [],
   "source": [
    "#Loss function\n",
    "def loss_func(y,a):\n",
    "    J = -(y * np.log(a) + (1-y) * np.log(1-a))\n",
    "    return J    "
   ]
  },
  {
   "cell_type": "code",
   "execution_count": 13,
   "metadata": {
    "_uuid": "fc0ceb65c69f4ee0c3f28e050744229dc90c621b",
    "colab": {},
    "colab_type": "code",
    "id": "1KW3eDpmcBIA"
   },
   "outputs": [],
   "source": [
    "dw = []\n",
    "db = 0\n",
    "J = 0\n",
    "alpha = 0.1\n",
    "for x in range(len_x):\n",
    "    dw.append(0)"
   ]
  },
  {
   "cell_type": "code",
   "execution_count": 14,
   "metadata": {
    "_uuid": "e4be38e9b500ae0c5a7134296a3055675c4fb2d8",
    "colab": {},
    "colab_type": "code",
    "id": "ipqdFLP3cBIO"
   },
   "outputs": [],
   "source": [
    "#Repeating the process 3000 times\n",
    "for iterations in range(3000):\n",
    "    for i in range(entries):\n",
    "        localx = X_train[i]\n",
    "        a = predict(localx)   \n",
    "        dz = a - y_train[i]\n",
    "        J += loss_func(y_train[i],a)\n",
    "\n",
    "        for j in range(len_x):\n",
    "            dw[j] = dw[j] + (localx[j] * dz)\n",
    "\n",
    "        db += dz\n",
    "    J = J / entries\n",
    "    db = db / entries\n",
    "\n",
    "    for x in range(len_x):\n",
    "        dw[x] = dw[x] / entries\n",
    "\n",
    "    for x in range(len_x):\n",
    "        w[x] = w[x] - (alpha * dw[x])\n",
    "    b = b - (alpha * db)         \n",
    "    J=0\n"
   ]
  },
  {
   "cell_type": "code",
   "execution_count": 15,
   "metadata": {
    "_uuid": "5479ccb6073ed1ea310ef7de01b2935fc3ec400e",
    "colab": {},
    "colab_type": "code",
    "id": "7Q585AdrcBIs"
   },
   "outputs": [
    {
     "data": {
      "text/plain": [
       "[2.538360378577415, 1.1615398277163362]"
      ]
     },
     "execution_count": 15,
     "metadata": {},
     "output_type": "execute_result"
    }
   ],
   "source": [
    "#Print weight\n",
    "w"
   ]
  },
  {
   "cell_type": "code",
   "execution_count": 16,
   "metadata": {
    "_uuid": "a939c247b8a092f74c9843975612daa85c423621",
    "colab": {},
    "colab_type": "code",
    "id": "rEiF-bNHcBJB"
   },
   "outputs": [
    {
     "data": {
      "text/plain": [
       "-1.10865818286564"
      ]
     },
     "execution_count": 16,
     "metadata": {},
     "output_type": "execute_result"
    }
   ],
   "source": [
    "#print bias\n",
    "b"
   ]
  },
  {
   "cell_type": "code",
   "execution_count": 17,
   "metadata": {
    "_uuid": "b7ae24169a21c7ac8ea0787f4a38a0de3e07a6b5",
    "colab": {},
    "colab_type": "code",
    "id": "MPt5nUcpcBJR"
   },
   "outputs": [],
   "source": [
    "#predicting the label\n",
    "for x in range(len(y_test)):\n",
    "    y_pred.append(predict(X_test[x]))"
   ]
  },
  {
   "cell_type": "code",
   "execution_count": 18,
   "metadata": {
    "_uuid": "967ad1b72305ad792a5d50e4d8b8a07632f7b241",
    "colab": {},
    "colab_type": "code",
    "id": "79HPPz7jcBJg",
    "scrolled": false
   },
   "outputs": [
    {
     "name": "stdout",
     "output_type": "stream",
     "text": [
      "Actual\t\tPredicted\n",
      "0\t\t0.011601487796935346\n",
      "0\t\t0.34595163410286534\n",
      "0\t\t0.015186592734763115\n",
      "1\t\t0.9928865692895193\n",
      "0\t\t0.016700759539565964\n",
      "1\t\t0.3791230647407476\n",
      "0\t\t0.031182116279058602\n",
      "0\t\t0.0008684228503045384\n",
      "0\t\t0.27415308976619734\n",
      "0\t\t0.2747862172287914\n",
      "1\t\t0.9839633538785998\n",
      "0\t\t0.008572476059788897\n",
      "0\t\t0.10913385850437933\n",
      "0\t\t0.1959547853753098\n",
      "0\t\t0.5302581244945206\n",
      "0\t\t0.03680339405020837\n",
      "0\t\t0.32234839684454863\n",
      "0\t\t0.10278509321290276\n",
      "0\t\t0.1388211378282071\n",
      "1\t\t0.955321296977749\n",
      "0\t\t0.0528682101933105\n",
      "0\t\t0.0546950967040219\n",
      "1\t\t0.9224458530989547\n",
      "0\t\t0.05666625797259988\n",
      "0\t\t0.4447395873510039\n",
      "0\t\t0.2006514548625493\n",
      "0\t\t0.2083009615208568\n",
      "0\t\t0.0008391547677902117\n",
      "1\t\t0.9750563400286659\n",
      "1\t\t0.6155418961418838\n",
      "0\t\t0.08265219575068042\n",
      "1\t\t0.9976816958189417\n",
      "1\t\t0.9981786935152476\n",
      "1\t\t0.9768165474898421\n",
      "0\t\t0.009060933015363808\n",
      "1\t\t0.38836499933093\n",
      "0\t\t0.2416550245610783\n",
      "1\t\t0.3006195554541418\n",
      "1\t\t0.9853953419412153\n",
      "1\t\t0.275103121289567\n",
      "0\t\t0.00183687942738577\n",
      "0\t\t0.09788279279586207\n",
      "0\t\t0.006911765838983169\n",
      "1\t\t0.1967072712483666\n",
      "0\t\t0.15584765389629357\n",
      "1\t\t0.22384706756401618\n",
      "0\t\t0.5538332293826955\n",
      "0\t\t0.13863120021617245\n",
      "0\t\t0.039616260722515416\n",
      "0\t\t0.01447631534530105\n",
      "0\t\t0.019641886069238952\n",
      "1\t\t0.7751475512921802\n",
      "0\t\t0.09662669213658512\n",
      "0\t\t0.011619730718195552\n",
      "0\t\t0.17977249774022758\n",
      "0\t\t0.08864675994225195\n",
      "0\t\t0.07495438446319916\n",
      "0\t\t0.37145142034884554\n",
      "0\t\t0.005336734591197524\n",
      "1\t\t0.6774312803363063\n",
      "0\t\t0.5642508337468244\n",
      "0\t\t0.13154315477946293\n",
      "0\t\t0.005695631520460739\n",
      "1\t\t0.9065114487799635\n",
      "1\t\t0.3806209880725811\n",
      "1\t\t0.5314458491241028\n",
      "0\t\t0.03492556738114252\n",
      "1\t\t0.8960902910494795\n",
      "1\t\t0.30498233318515516\n",
      "0\t\t0.38761004737670823\n",
      "1\t\t0.9253059462470065\n",
      "1\t\t0.9403918223090765\n",
      "0\t\t0.02267704600851458\n",
      "0\t\t0.0032660968126231355\n",
      "1\t\t0.8068762839301625\n",
      "0\t\t0.006249756928949039\n",
      "0\t\t0.7884775655665099\n",
      "0\t\t0.1795382109247835\n",
      "0\t\t0.0022487026604305427\n",
      "0\t\t0.979069361384632\n",
      "1\t\t0.6081481478322724\n",
      "0\t\t0.025726742242068647\n",
      "0\t\t0.03943521110583108\n",
      "0\t\t0.05683645168040427\n",
      "0\t\t0.25505673378792965\n",
      "0\t\t0.27415308976619734\n",
      "1\t\t0.993812778390439\n",
      "0\t\t0.7259625592208236\n",
      "1\t\t0.7153486170714619\n",
      "0\t\t0.06832408911308208\n",
      "0\t\t0.16084398686768295\n",
      "1\t\t0.527881660105134\n",
      "0\t\t0.0007316126690874056\n",
      "0\t\t0.9865209198193723\n",
      "0\t\t0.059998390257612014\n",
      "0\t\t0.008156105164739658\n",
      "1\t\t0.2634776469720865\n",
      "1\t\t0.47725184095761236\n",
      "0\t\t0.03166595286903439\n",
      "1\t\t0.82031319369454\n",
      "0\t\t0.04689742422268662\n",
      "0\t\t0.15626638727127554\n",
      "0\t\t0.3976879204644701\n",
      "0\t\t0.09690457560574338\n",
      "1\t\t0.7851217438086213\n",
      "1\t\t0.6355543796438571\n",
      "1\t\t0.9035626426817754\n",
      "0\t\t0.34001064504050427\n",
      "0\t\t0.04211851786267135\n",
      "0\t\t0.10599284420878805\n",
      "0\t\t0.0035083914835405293\n",
      "0\t\t0.13099929637150712\n",
      "0\t\t0.010331235178970452\n",
      "1\t\t0.9728074752790348\n",
      "0\t\t0.2359955402015456\n",
      "1\t\t0.9940013028766919\n",
      "0\t\t0.28071267628994245\n",
      "0\t\t0.11615014095616899\n",
      "1\t\t0.9950965179985751\n",
      "1\t\t0.9529863078184926\n"
     ]
    }
   ],
   "source": [
    "#print actual and predicted values in a table\n",
    "print(\"Actual\\t\\tPredicted\")\n",
    "for x in range(len(y_pred)):\n",
    "    print(y_test[x] ,y_pred[x], sep=\"\\t\\t\")\n",
    "    if y_pred[x]>=0.5:\n",
    "        y_pred[x]=1\n",
    "    else:\n",
    "        y_pred[x]=0"
   ]
  },
  {
   "cell_type": "code",
   "execution_count": 19,
   "metadata": {
    "_uuid": "a59807150900082ab876ef0200c6c7f8f93e098c",
    "colab": {},
    "colab_type": "code",
    "id": "sdZDj_iVcBJt"
   },
   "outputs": [
    {
     "name": "stdout",
     "output_type": "stream",
     "text": [
      "Accuracy: 85.83333333333333\n"
     ]
    }
   ],
   "source": [
    "# Calculating accuracy of prediction\n",
    "count = 0\n",
    "for x in range(len(y_pred)):\n",
    "    if(y_pred[x] == y_test[x]):\n",
    "        count += 1\n",
    "\n",
    "print('Accuracy:',(count / (len(y_pred))) * 100)"
   ]
  },
  {
   "cell_type": "markdown",
   "metadata": {
    "colab_type": "text",
    "id": "x6nmajpzhAEn"
   },
   "source": [
    "## Using sklearn LogisticRegression model##"
   ]
  },
  {
   "cell_type": "code",
   "execution_count": 20,
   "metadata": {
    "_kg_hide-output": true,
    "_uuid": "9aaade066015e04f20dd7eb1d37339be75ca3836",
    "colab": {},
    "colab_type": "code",
    "id": "iG-BK4i9cBKH"
   },
   "outputs": [
    {
     "name": "stdout",
     "output_type": "stream",
     "text": [
      "Accuracy: 0.8583333333333333\n"
     ]
    }
   ],
   "source": [
    "# Fitting Logistic Regression to the Training set\n",
    "from sklearn.linear_model import LogisticRegression\n",
    "LR = LogisticRegression(random_state = 86) # roll no 86\n",
    "#Fit\n",
    "LR.fit(X_train,y_train)\n",
    "\n",
    "#predicting the test label with LR. Predict always takes X as input\n",
    "y_predict = LR.predict(X_test)\n",
    "\n",
    "from sklearn.metrics import accuracy_score\n",
    "print('Accuracy:', accuracy_score(y_predict,y_test))\n"
   ]
  },
  {
   "cell_type": "markdown",
   "metadata": {
    "colab_type": "text",
    "id": "Y8sYVBu-iSW-"
   },
   "source": [
    "**Exercise:**\n",
    "\n",
    "Try logistic regression on BuyComputer dataset and set Random state=Your_RollNumber (last 3 digit of ID, incase if you don't have ID)"
   ]
  },
  {
   "cell_type": "code",
   "execution_count": null,
   "metadata": {},
   "outputs": [],
   "source": []
  }
 ],
 "metadata": {
  "colab": {
   "name": "0_logistic_regression.ipynb",
   "provenance": []
  },
  "kernelspec": {
   "display_name": "Python 3 (ipykernel)",
   "language": "python",
   "name": "python3"
  },
  "language_info": {
   "codemirror_mode": {
    "name": "ipython",
    "version": 3
   },
   "file_extension": ".py",
   "mimetype": "text/x-python",
   "name": "python",
   "nbconvert_exporter": "python",
   "pygments_lexer": "ipython3",
   "version": "3.9.7"
  }
 },
 "nbformat": 4,
 "nbformat_minor": 1
}
