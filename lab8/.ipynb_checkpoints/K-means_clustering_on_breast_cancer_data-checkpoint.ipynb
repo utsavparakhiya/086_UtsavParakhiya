{
 "cells": [
  {
   "cell_type": "code",
   "execution_count": 1,
   "metadata": {},
   "outputs": [],
   "source": [
    "import numpy as np \n",
    "import pandas as pd \n",
    "from sklearn import datasets\n",
    "from sklearn.cluster import KMeans\n",
    "import matplotlib.pyplot as plt"
   ]
  },
  {
   "cell_type": "code",
   "execution_count": 2,
   "metadata": {},
   "outputs": [
    {
     "name": "stdout",
     "output_type": "stream",
     "text": [
      "(569, 30)\n",
      "(569,)\n"
     ]
    }
   ],
   "source": [
    "dataset=datasets.load_breast_cancer()\n",
    "dataset\n",
    "\n",
    "print(dataset.data.shape)\n",
    "print(dataset.target.shape)"
   ]
  },
  {
   "cell_type": "code",
   "execution_count": 3,
   "metadata": {},
   "outputs": [
    {
     "name": "stdout",
     "output_type": "stream",
     "text": [
      "['mean radius' 'mean texture' 'mean perimeter' 'mean area'\n",
      " 'mean smoothness' 'mean compactness' 'mean concavity'\n",
      " 'mean concave points' 'mean symmetry' 'mean fractal dimension'\n",
      " 'radius error' 'texture error' 'perimeter error' 'area error'\n",
      " 'smoothness error' 'compactness error' 'concavity error'\n",
      " 'concave points error' 'symmetry error' 'fractal dimension error'\n",
      " 'worst radius' 'worst texture' 'worst perimeter' 'worst area'\n",
      " 'worst smoothness' 'worst compactness' 'worst concavity'\n",
      " 'worst concave points' 'worst symmetry' 'worst fractal dimension']\n"
     ]
    }
   ],
   "source": [
    "print(dataset.feature_names)"
   ]
  },
  {
   "cell_type": "code",
   "execution_count": 4,
   "metadata": {},
   "outputs": [
    {
     "name": "stdout",
     "output_type": "stream",
     "text": [
      "['malignant' 'benign']\n"
     ]
    }
   ],
   "source": [
    "print(dataset.target_names)"
   ]
  },
  {
   "cell_type": "code",
   "execution_count": 5,
   "metadata": {},
   "outputs": [
    {
     "data": {
      "image/png": "[encoded data removed]",
      "text/plain": [
       "<Figure size 432x288 with 1 Axes>"
      ]
     },
     "metadata": {
      "needs_background": "light"
     },
     "output_type": "display_data"
    }
   ],
   "source": [
    "plt.scatter(dataset.data[:, 0], dataset.target)\n",
    "plt.xlabel('Features')\n",
    "plt.ylabel('Type of cancer') # 1-malignant # 0-benign\n",
    "plt.show()"
   ]
  },
  {
   "cell_type": "code",
   "execution_count": 11,
   "metadata": {},
   "outputs": [
    {
     "name": "stdout",
     "output_type": "stream",
     "text": [
      "[9 9 4 1 4 5 4 5 5 5 2 8 8 2 5 2 2 8 0 5 1 6 2 0 9 8 2 8 8 8 4 5 8 9 8 8 5\n",
      " 1 5 5 5 1 4 5 5 4 6 5 1 5 1 5 1 8 2 1 9 2 1 6 6 6 2 6 5 2 6 1 6 1 9 6 4 5\n",
      " 1 8 1 4 4 1 1 1 3 8 1 4 5 4 1 5 5 5 5 5 2 4 1 6 1 5 5 6 1 6 6 5 1 1 0 1 6\n",
      " 1 5 6 6 1 6 2 8 8 1 4 0 5 1 5 5 4 5 4 1 2 8 2 4 1 1 1 2 6 6 8 1 1 6 1 1 5\n",
      " 5 5 1 6 6 6 5 1 8 2 1 1 1 4 9 1 0 5 6 8 4 5 1 2 2 6 6 6 6 2 1 1 3 9 8 1 2\n",
      " 6 8 1 1 1 5 1 6 5 5 1 5 8 4 2 1 8 0 2 1 2 6 8 1 2 4 1 3 2 5 5 1 6 9 0 5 5\n",
      " 6 2 5 5 6 5 1 5 8 1 1 9 6 5 3 4 5 8 5 1 1 5 4 6 1 1 6 1 9 1 9 8 9 5 9 2 8\n",
      " 2 9 8 8 2 8 3 6 5 1 6 5 1 0 6 8 1 1 8 5 5 4 1 4 2 1 1 1 1 6 1 5 5 1 1 1 5\n",
      " 6 1 5 6 9 1 4 6 1 1 1 6 5 5 1 5 1 1 6 1 1 4 6 1 6 4 1 9 1 1 5 1 2 2 2 1 6\n",
      " 1 1 8 1 9 6 3 5 6 6 4 1 6 1 2 1 1 1 2 3 2 1 1 1 5 6 6 1 1 1 2 5 9 4 1 3 0\n",
      " 8 5 4 9 5 2 6 5 5 1 1 6 1 1 1 5 1 5 1 8 6 6 8 9 1 5 5 1 1 1 8 1 1 1 1 1 2\n",
      " 1 8 1 1 1 6 2 2 1 6 4 1 1 1 5 1 5 6 6 6 1 6 1 5 1 4 4 5 5 1 5 5 5 1 8 5 6\n",
      " 8 1 8 5 5 9 1 4 1 5 1 5 1 1 1 6 4 7 5 1 5 5 5 6 8 1 6 1 2 1 6 1 5 5 1 2 1\n",
      " 5 5 5 2 1 5 4 1 2 1 8 8 1 5 5 1 1 4 9 5 5 1 3 6 6 1 6 2 2 1 5 5 5 2 1 4 4\n",
      " 1 1 6 3 6 5 6 6 5 1 5 1 1 1 5 4 6 9 5 1 6 6 1 5 5 1 5 5 6 6 6 1 6 6 1 6 1\n",
      " 6 6 6 5 1 5 6 2 9 9 4 2 9 6]\n",
      "[[2.19266667e+01 2.32366667e+01 1.46633333e+02 1.50011111e+03\n",
      "  1.05876667e-01 1.77311111e-01 2.41588889e-01 1.27676667e-01\n",
      "  1.94844444e-01 6.00200000e-02 9.22911111e-01 1.39977778e+00\n",
      "  6.71611111e+00 1.31922222e+02 7.83422222e-03 4.41288889e-02\n",
      "  5.84833333e-02 1.67322222e-02 2.11144444e-02 4.27744444e-03\n",
      "  2.75322222e+01 3.09733333e+01 1.88311111e+02 2.32477778e+03\n",
      "  1.44977778e-01 4.16088889e-01 5.59288889e-01 2.28133333e-01\n",
      "  3.10455556e-01 8.43200000e-02]\n",
      " [1.21398295e+01 1.81243750e+01 7.80391477e+01 4.53930682e+02\n",
      "  9.30579545e-02 7.96476705e-02 4.52235324e-02 2.59481023e-02\n",
      "  1.74372727e-01 6.23869886e-02 2.76667614e-01 1.19831080e+00\n",
      "  1.96479489e+00 2.04931250e+01 6.79651136e-03 2.03912898e-02\n",
      "  2.40284352e-02 9.64013636e-03 2.03964205e-02 3.30967330e-03\n",
      "  1.34010227e+01 2.41963068e+01 8.71398295e+01 5.49269318e+02\n",
      "  1.26916705e-01 1.92223466e-01 1.75752653e-01 7.78560852e-02\n",
      "  2.78232386e-01 7.95895455e-02]\n",
      " [1.54638000e+01 2.02392000e+01 1.01397600e+02 7.40524000e+02\n",
      "  1.00539400e-01 1.25822000e-01 1.23348200e-01 6.54630000e-02\n",
      "  1.85918000e-01 6.26102000e-02 3.90868000e-01 1.03997400e+00\n",
      "  2.75976000e+00 3.72140000e+01 6.65860000e-03 2.82472800e-02\n",
      "  3.78898000e-02 1.35351000e-02 1.91477200e-02 3.67792000e-03\n",
      "  1.80026000e+01 2.75786000e+01 1.19620000e+02 9.92134000e+02\n",
      "  1.41392800e-01 3.39973200e-01 3.95144000e-01 1.54146800e-01\n",
      "  3.16380000e-01 9.00534000e-02]\n",
      " [2.43160000e+01 2.23750000e+01 1.61910000e+02 1.85420000e+03\n",
      "  1.03174000e-01 1.68032000e-01 2.35580000e-01 1.40631000e-01\n",
      "  1.79210000e-01 5.89640000e-02 1.23297000e+00 1.14835000e+00\n",
      "  8.82800000e+00 1.99120000e+02 6.61970000e-03 2.92370000e-02\n",
      "  3.93590000e-02 1.50810000e-02 1.95370000e-02 3.44310000e-03\n",
      "  3.09990000e+01 2.98160000e+01 2.08940000e+02 2.93600000e+03\n",
      "  1.40180000e-01 3.64520000e-01 4.68620000e-01 2.28060000e-01\n",
      "  2.76880000e-01 8.10070000e-02]\n",
      " [1.91739024e+01 2.14331707e+01 1.26473171e+02 1.14431707e+03\n",
      "  9.99746341e-02 1.43041463e-01 1.68712927e-01 9.67560976e-02\n",
      "  1.93782927e-01 6.00136585e-02 7.10575610e-01 1.25866585e+00\n",
      "  4.91992683e+00 8.55463415e+01 6.88109756e-03 3.26992683e-02\n",
      "  4.44595122e-02 1.62545854e-02 2.27600000e-02 3.92531707e-03\n",
      "  2.30341463e+01 2.84475610e+01 1.53239024e+02 1.61682927e+03\n",
      "  1.38517073e-01 3.43490244e-01 4.37446341e-01 1.83580488e-01\n",
      "  3.18048780e-01 8.46558537e-02]\n",
      " [1.39387395e+01 1.90294958e+01 9.04831933e+01 6.00262185e+02\n",
      "  9.39314286e-02 1.00406387e-01 7.45220756e-02 4.14941345e-02\n",
      "  1.75155462e-01 6.16680672e-02 3.13209244e-01 1.08587899e+00\n",
      "  2.26420084e+00 2.71161345e+01 5.84906723e-03 2.42642689e-02\n",
      "  2.82606723e-02 1.11375714e-02 1.78284202e-02 3.49648571e-03\n",
      "  1.57033613e+01 2.55010924e+01 1.03702605e+02 7.57455462e+02\n",
      "  1.28325294e-01 2.62771765e-01 2.65218908e-01 1.12402101e-01\n",
      "  2.83356303e-01 8.43820168e-02]\n",
      " [9.87515385e+00 1.78310989e+01 6.31275824e+01 2.99732967e+02\n",
      "  9.64635165e-02 8.09469231e-02 4.46973846e-02 1.89206154e-02\n",
      "  1.83812088e-01 6.83807692e-02 2.95191209e-01 1.51460549e+00\n",
      "  2.02103187e+00 1.79611868e+01 9.95848352e-03 2.56543407e-02\n",
      "  3.31990110e-02 1.02651538e-02 2.54141758e-02 4.97217582e-03\n",
      "  1.08238352e+01 2.29446154e+01 6.97957143e+01 3.58796703e+02\n",
      "  1.31465934e-01 1.64161758e-01 1.40192637e-01 5.34132967e-02\n",
      "  2.73173626e-01 8.52007692e-02]\n",
      " [2.74200000e+01 2.62700000e+01 1.86900000e+02 2.50100000e+03\n",
      "  1.08400000e-01 1.98800000e-01 3.63500000e-01 1.68900000e-01\n",
      "  2.06100000e-01 5.62300000e-02 2.54700000e+00 1.30600000e+00\n",
      "  1.86500000e+01 5.42200000e+02 7.65000000e-03 5.37400000e-02\n",
      "  8.05500000e-02 2.59800000e-02 1.69700000e-02 4.55800000e-03\n",
      "  3.60400000e+01 3.13700000e+01 2.51200000e+02 4.25400000e+03\n",
      "  1.35700000e-01 4.25600000e-01 6.83300000e-01 2.62500000e-01\n",
      "  2.64100000e-01 7.42700000e-02]\n",
      " [1.72662222e+01 2.12826667e+01 1.13766667e+02 9.30031111e+02\n",
      "  9.96044444e-02 1.34278667e-01 1.40752222e-01 8.17808889e-02\n",
      "  1.90786667e-01 6.09995556e-02 5.76202222e-01 1.28895333e+00\n",
      "  4.13328889e+00 6.30108889e+01 6.40597778e-03 3.02990444e-02\n",
      "  3.75984444e-02 1.49950444e-02 2.00477778e-02 4.04933333e-03\n",
      "  2.05342222e+01 2.85542222e+01 1.36617778e+02 1.29620000e+03\n",
      "  1.38425333e-01 3.23276889e-01 3.89095556e-01 1.69770444e-01\n",
      "  3.12826667e-01 8.54171111e-02]\n",
      " [2.00092593e+01 2.18959259e+01 1.32700000e+02 1.24794815e+03\n",
      "  1.03467407e-01 1.61638519e-01 1.97029259e-01 1.09776296e-01\n",
      "  1.94181481e-01 6.17955556e-02 7.38003704e-01 1.01643704e+00\n",
      "  5.13155556e+00 9.47937037e+01 5.93300000e-03 3.06088889e-02\n",
      "  4.16533333e-02 1.52032593e-02 1.73874074e-02 3.84103704e-03\n",
      "  2.52788889e+01 2.92848148e+01 1.68740741e+02 1.95666667e+03\n",
      "  1.45407407e-01 4.14522222e-01 5.19233333e-01 2.14877778e-01\n",
      "  3.23803704e-01 9.26714815e-02]]\n"
     ]
    }
   ],
   "source": [
    "kmeans = KMeans(n_clusters=10, random_state=86)\n",
    "prediction = kmeans.fit_predict(dataset.data)\n",
    "print(prediction)\n",
    "\n",
    "kmeans.cluster_centers_.shape\n",
    "print(kmeans.cluster_centers_)"
   ]
  },
  {
   "cell_type": "code",
   "execution_count": 12,
   "metadata": {},
   "outputs": [
    {
     "data": {
      "image/png": "[encoded data removed]",
      "text/plain": [
       "<Figure size 432x288 with 1 Axes>"
      ]
     },
     "metadata": {
      "needs_background": "light"
     },
     "output_type": "display_data"
    }
   ],
   "source": [
    "plt.scatter(dataset.data[:, 0], dataset.target)\n",
    "plt.scatter(kmeans.cluster_centers_[:, 0], kmeans.cluster_centers_[:, 1],c='red', marker='x')\n",
    "plt.title('Data points and cluster centroids')\n",
    "plt.show()"
   ]
  },
  {
   "cell_type": "code",
   "execution_count": 13,
   "metadata": {},
   "outputs": [],
   "source": [
    "import numpy as np\n",
    "from scipy.stats import mode\n",
    "labels = np.zeros_like(prediction)\n",
    "for i in range(10):\n",
    "  mask = (prediction == i)\n",
    "  labels[mask] = mode(dataset.target[mask])[0]"
   ]
  },
  {
   "cell_type": "code",
   "execution_count": 14,
   "metadata": {},
   "outputs": [
    {
     "data": {
      "text/plain": [
       "0.9068541300527241"
      ]
     },
     "execution_count": 14,
     "metadata": {},
     "output_type": "execute_result"
    }
   ],
   "source": [
    "from sklearn.metrics import accuracy_score\n",
    "accuracy_score(dataset.target, labels)"
   ]
  },
  {
   "cell_type": "code",
   "execution_count": 15,
   "metadata": {},
   "outputs": [
    {
     "data": {
      "text/plain": [
       "Text(91.68, 0.5, 'predicted label')"
      ]
     },
     "execution_count": 15,
     "metadata": {},
     "output_type": "execute_result"
    },
    {
     "data": {
      "image/png": "[encoded data removed]",
      "text/plain": [
       "<Figure size 432x288 with 1 Axes>"
      ]
     },
     "metadata": {
      "needs_background": "light"
     },
     "output_type": "display_data"
    }
   ],
   "source": [
    "from sklearn.metrics import confusion_matrix\n",
    "import seaborn as sns\n",
    "mat = confusion_matrix(dataset.target, labels)\n",
    "ax = sns.heatmap(mat.T, square=True, annot=True, fmt='d', cbar=False,xticklabels=dataset.target_names,yticklabels=dataset.target_names)\n",
    "\n",
    "#ax.set_ylim(10,10)\n",
    "plt.xlabel('true label')\n",
    "plt.ylabel('predicted label')"
   ]
  },
  {
   "cell_type": "code",
   "execution_count": null,
   "metadata": {},
   "outputs": [],
   "source": []
  }
 ],
 "metadata": {
  "colab": {
   "name": "LogisticRegression-Tweets.ipynb",
   "provenance": [
    {
     "file_id": "https://github.com/pandyahariom/ML_Lab/blob/master/L6-LogisticRegression/tweeterAnalysis.ipynb",
     "timestamp": 1596958929064
    }
   ]
  },
  "coursera": {
   "schema_names": [
    "NLPC1-1"
   ]
  },
  "kernelspec": {
   "display_name": "Python 3 (ipykernel)",
   "language": "python",
   "name": "python3"
  },
  "language_info": {
   "codemirror_mode": {
    "name": "ipython",
    "version": 3
   },
   "file_extension": ".py",
   "mimetype": "text/x-python",
   "name": "python",
   "nbconvert_exporter": "python",
   "pygments_lexer": "ipython3",
   "version": "3.9.7"
  }
 },
 "nbformat": 4,
 "nbformat_minor": 1
}
